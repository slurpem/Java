{
 "cells": [
  {
   "cell_type": "markdown",
   "metadata": {},
   "source": [
    "Loading data set"
   ]
  },
  {
   "cell_type": "code",
   "execution_count": null,
   "metadata": {},
   "outputs": [],
   "source": [
    "# import the libraries\n",
    "import numpy as np\n",
    "import pandas as pd"
   ]
  },
  {
   "cell_type": "code",
   "execution_count": null,
   "metadata": {},
   "outputs": [
    {
     "ename": "FileNotFoundError",
     "evalue": "[Errno 2] No such file or directory: 'learning2.csv'",
     "output_type": "error",
     "traceback": [
      "\u001b[1;31m---------------------------------------------------------------------------\u001b[0m",
      "\u001b[1;31mFileNotFoundError\u001b[0m                         Traceback (most recent call last)",
      "Cell \u001b[1;32mIn[2], line 2\u001b[0m\n\u001b[0;32m      1\u001b[0m \u001b[38;5;66;03m#loading of dataset\u001b[39;00m\n\u001b[1;32m----> 2\u001b[0m df1 \u001b[38;5;241m=\u001b[39m pd\u001b[38;5;241m.\u001b[39mread_csv(\u001b[38;5;124m'\u001b[39m\u001b[38;5;124mlearning2.csv\u001b[39m\u001b[38;5;124m'\u001b[39m)\n\u001b[0;32m      3\u001b[0m df1\n",
      "File \u001b[1;32md:\\ProgramData\\anaconda3\\Lib\\site-packages\\pandas\\io\\parsers\\readers.py:1026\u001b[0m, in \u001b[0;36mread_csv\u001b[1;34m(filepath_or_buffer, sep, delimiter, header, names, index_col, usecols, dtype, engine, converters, true_values, false_values, skipinitialspace, skiprows, skipfooter, nrows, na_values, keep_default_na, na_filter, verbose, skip_blank_lines, parse_dates, infer_datetime_format, keep_date_col, date_parser, date_format, dayfirst, cache_dates, iterator, chunksize, compression, thousands, decimal, lineterminator, quotechar, quoting, doublequote, escapechar, comment, encoding, encoding_errors, dialect, on_bad_lines, delim_whitespace, low_memory, memory_map, float_precision, storage_options, dtype_backend)\u001b[0m\n\u001b[0;32m   1013\u001b[0m kwds_defaults \u001b[38;5;241m=\u001b[39m _refine_defaults_read(\n\u001b[0;32m   1014\u001b[0m     dialect,\n\u001b[0;32m   1015\u001b[0m     delimiter,\n\u001b[1;32m   (...)\u001b[0m\n\u001b[0;32m   1022\u001b[0m     dtype_backend\u001b[38;5;241m=\u001b[39mdtype_backend,\n\u001b[0;32m   1023\u001b[0m )\n\u001b[0;32m   1024\u001b[0m kwds\u001b[38;5;241m.\u001b[39mupdate(kwds_defaults)\n\u001b[1;32m-> 1026\u001b[0m \u001b[38;5;28;01mreturn\u001b[39;00m _read(filepath_or_buffer, kwds)\n",
      "File \u001b[1;32md:\\ProgramData\\anaconda3\\Lib\\site-packages\\pandas\\io\\parsers\\readers.py:620\u001b[0m, in \u001b[0;36m_read\u001b[1;34m(filepath_or_buffer, kwds)\u001b[0m\n\u001b[0;32m    617\u001b[0m _validate_names(kwds\u001b[38;5;241m.\u001b[39mget(\u001b[38;5;124m\"\u001b[39m\u001b[38;5;124mnames\u001b[39m\u001b[38;5;124m\"\u001b[39m, \u001b[38;5;28;01mNone\u001b[39;00m))\n\u001b[0;32m    619\u001b[0m \u001b[38;5;66;03m# Create the parser.\u001b[39;00m\n\u001b[1;32m--> 620\u001b[0m parser \u001b[38;5;241m=\u001b[39m TextFileReader(filepath_or_buffer, \u001b[38;5;241m*\u001b[39m\u001b[38;5;241m*\u001b[39mkwds)\n\u001b[0;32m    622\u001b[0m \u001b[38;5;28;01mif\u001b[39;00m chunksize \u001b[38;5;129;01mor\u001b[39;00m iterator:\n\u001b[0;32m    623\u001b[0m     \u001b[38;5;28;01mreturn\u001b[39;00m parser\n",
      "File \u001b[1;32md:\\ProgramData\\anaconda3\\Lib\\site-packages\\pandas\\io\\parsers\\readers.py:1620\u001b[0m, in \u001b[0;36mTextFileReader.__init__\u001b[1;34m(self, f, engine, **kwds)\u001b[0m\n\u001b[0;32m   1617\u001b[0m     \u001b[38;5;28mself\u001b[39m\u001b[38;5;241m.\u001b[39moptions[\u001b[38;5;124m\"\u001b[39m\u001b[38;5;124mhas_index_names\u001b[39m\u001b[38;5;124m\"\u001b[39m] \u001b[38;5;241m=\u001b[39m kwds[\u001b[38;5;124m\"\u001b[39m\u001b[38;5;124mhas_index_names\u001b[39m\u001b[38;5;124m\"\u001b[39m]\n\u001b[0;32m   1619\u001b[0m \u001b[38;5;28mself\u001b[39m\u001b[38;5;241m.\u001b[39mhandles: IOHandles \u001b[38;5;241m|\u001b[39m \u001b[38;5;28;01mNone\u001b[39;00m \u001b[38;5;241m=\u001b[39m \u001b[38;5;28;01mNone\u001b[39;00m\n\u001b[1;32m-> 1620\u001b[0m \u001b[38;5;28mself\u001b[39m\u001b[38;5;241m.\u001b[39m_engine \u001b[38;5;241m=\u001b[39m \u001b[38;5;28mself\u001b[39m\u001b[38;5;241m.\u001b[39m_make_engine(f, \u001b[38;5;28mself\u001b[39m\u001b[38;5;241m.\u001b[39mengine)\n",
      "File \u001b[1;32md:\\ProgramData\\anaconda3\\Lib\\site-packages\\pandas\\io\\parsers\\readers.py:1880\u001b[0m, in \u001b[0;36mTextFileReader._make_engine\u001b[1;34m(self, f, engine)\u001b[0m\n\u001b[0;32m   1878\u001b[0m     \u001b[38;5;28;01mif\u001b[39;00m \u001b[38;5;124m\"\u001b[39m\u001b[38;5;124mb\u001b[39m\u001b[38;5;124m\"\u001b[39m \u001b[38;5;129;01mnot\u001b[39;00m \u001b[38;5;129;01min\u001b[39;00m mode:\n\u001b[0;32m   1879\u001b[0m         mode \u001b[38;5;241m+\u001b[39m\u001b[38;5;241m=\u001b[39m \u001b[38;5;124m\"\u001b[39m\u001b[38;5;124mb\u001b[39m\u001b[38;5;124m\"\u001b[39m\n\u001b[1;32m-> 1880\u001b[0m \u001b[38;5;28mself\u001b[39m\u001b[38;5;241m.\u001b[39mhandles \u001b[38;5;241m=\u001b[39m get_handle(\n\u001b[0;32m   1881\u001b[0m     f,\n\u001b[0;32m   1882\u001b[0m     mode,\n\u001b[0;32m   1883\u001b[0m     encoding\u001b[38;5;241m=\u001b[39m\u001b[38;5;28mself\u001b[39m\u001b[38;5;241m.\u001b[39moptions\u001b[38;5;241m.\u001b[39mget(\u001b[38;5;124m\"\u001b[39m\u001b[38;5;124mencoding\u001b[39m\u001b[38;5;124m\"\u001b[39m, \u001b[38;5;28;01mNone\u001b[39;00m),\n\u001b[0;32m   1884\u001b[0m     compression\u001b[38;5;241m=\u001b[39m\u001b[38;5;28mself\u001b[39m\u001b[38;5;241m.\u001b[39moptions\u001b[38;5;241m.\u001b[39mget(\u001b[38;5;124m\"\u001b[39m\u001b[38;5;124mcompression\u001b[39m\u001b[38;5;124m\"\u001b[39m, \u001b[38;5;28;01mNone\u001b[39;00m),\n\u001b[0;32m   1885\u001b[0m     memory_map\u001b[38;5;241m=\u001b[39m\u001b[38;5;28mself\u001b[39m\u001b[38;5;241m.\u001b[39moptions\u001b[38;5;241m.\u001b[39mget(\u001b[38;5;124m\"\u001b[39m\u001b[38;5;124mmemory_map\u001b[39m\u001b[38;5;124m\"\u001b[39m, \u001b[38;5;28;01mFalse\u001b[39;00m),\n\u001b[0;32m   1886\u001b[0m     is_text\u001b[38;5;241m=\u001b[39mis_text,\n\u001b[0;32m   1887\u001b[0m     errors\u001b[38;5;241m=\u001b[39m\u001b[38;5;28mself\u001b[39m\u001b[38;5;241m.\u001b[39moptions\u001b[38;5;241m.\u001b[39mget(\u001b[38;5;124m\"\u001b[39m\u001b[38;5;124mencoding_errors\u001b[39m\u001b[38;5;124m\"\u001b[39m, \u001b[38;5;124m\"\u001b[39m\u001b[38;5;124mstrict\u001b[39m\u001b[38;5;124m\"\u001b[39m),\n\u001b[0;32m   1888\u001b[0m     storage_options\u001b[38;5;241m=\u001b[39m\u001b[38;5;28mself\u001b[39m\u001b[38;5;241m.\u001b[39moptions\u001b[38;5;241m.\u001b[39mget(\u001b[38;5;124m\"\u001b[39m\u001b[38;5;124mstorage_options\u001b[39m\u001b[38;5;124m\"\u001b[39m, \u001b[38;5;28;01mNone\u001b[39;00m),\n\u001b[0;32m   1889\u001b[0m )\n\u001b[0;32m   1890\u001b[0m \u001b[38;5;28;01massert\u001b[39;00m \u001b[38;5;28mself\u001b[39m\u001b[38;5;241m.\u001b[39mhandles \u001b[38;5;129;01mis\u001b[39;00m \u001b[38;5;129;01mnot\u001b[39;00m \u001b[38;5;28;01mNone\u001b[39;00m\n\u001b[0;32m   1891\u001b[0m f \u001b[38;5;241m=\u001b[39m \u001b[38;5;28mself\u001b[39m\u001b[38;5;241m.\u001b[39mhandles\u001b[38;5;241m.\u001b[39mhandle\n",
      "File \u001b[1;32md:\\ProgramData\\anaconda3\\Lib\\site-packages\\pandas\\io\\common.py:873\u001b[0m, in \u001b[0;36mget_handle\u001b[1;34m(path_or_buf, mode, encoding, compression, memory_map, is_text, errors, storage_options)\u001b[0m\n\u001b[0;32m    868\u001b[0m \u001b[38;5;28;01melif\u001b[39;00m \u001b[38;5;28misinstance\u001b[39m(handle, \u001b[38;5;28mstr\u001b[39m):\n\u001b[0;32m    869\u001b[0m     \u001b[38;5;66;03m# Check whether the filename is to be opened in binary mode.\u001b[39;00m\n\u001b[0;32m    870\u001b[0m     \u001b[38;5;66;03m# Binary mode does not support 'encoding' and 'newline'.\u001b[39;00m\n\u001b[0;32m    871\u001b[0m     \u001b[38;5;28;01mif\u001b[39;00m ioargs\u001b[38;5;241m.\u001b[39mencoding \u001b[38;5;129;01mand\u001b[39;00m \u001b[38;5;124m\"\u001b[39m\u001b[38;5;124mb\u001b[39m\u001b[38;5;124m\"\u001b[39m \u001b[38;5;129;01mnot\u001b[39;00m \u001b[38;5;129;01min\u001b[39;00m ioargs\u001b[38;5;241m.\u001b[39mmode:\n\u001b[0;32m    872\u001b[0m         \u001b[38;5;66;03m# Encoding\u001b[39;00m\n\u001b[1;32m--> 873\u001b[0m         handle \u001b[38;5;241m=\u001b[39m \u001b[38;5;28mopen\u001b[39m(\n\u001b[0;32m    874\u001b[0m             handle,\n\u001b[0;32m    875\u001b[0m             ioargs\u001b[38;5;241m.\u001b[39mmode,\n\u001b[0;32m    876\u001b[0m             encoding\u001b[38;5;241m=\u001b[39mioargs\u001b[38;5;241m.\u001b[39mencoding,\n\u001b[0;32m    877\u001b[0m             errors\u001b[38;5;241m=\u001b[39merrors,\n\u001b[0;32m    878\u001b[0m             newline\u001b[38;5;241m=\u001b[39m\u001b[38;5;124m\"\u001b[39m\u001b[38;5;124m\"\u001b[39m,\n\u001b[0;32m    879\u001b[0m         )\n\u001b[0;32m    880\u001b[0m     \u001b[38;5;28;01melse\u001b[39;00m:\n\u001b[0;32m    881\u001b[0m         \u001b[38;5;66;03m# Binary mode\u001b[39;00m\n\u001b[0;32m    882\u001b[0m         handle \u001b[38;5;241m=\u001b[39m \u001b[38;5;28mopen\u001b[39m(handle, ioargs\u001b[38;5;241m.\u001b[39mmode)\n",
      "\u001b[1;31mFileNotFoundError\u001b[0m: [Errno 2] No such file or directory: 'learning2.csv'"
     ]
    }
   ],
   "source": [
    "#loading of dataset\n",
    "df1 = pd.read_csv('learning2.csv')\n",
    "df1"
   ]
  },
  {
   "cell_type": "markdown",
   "metadata": {},
   "source": [
    "Descriptive Analysis"
   ]
  },
  {
   "cell_type": "code",
   "execution_count": null,
   "metadata": {},
   "outputs": [
    {
     "ename": "NameError",
     "evalue": "name 'df1' is not defined",
     "output_type": "error",
     "traceback": [
      "\u001b[1;31m---------------------------------------------------------------------------\u001b[0m",
      "\u001b[1;31mNameError\u001b[0m                                 Traceback (most recent call last)",
      "Cell \u001b[1;32mIn[3], line 1\u001b[0m\n\u001b[1;32m----> 1\u001b[0m df1\u001b[38;5;241m.\u001b[39mshape\n\u001b[0;32m      2\u001b[0m df1\u001b[38;5;241m.\u001b[39mindex\n\u001b[0;32m      3\u001b[0m df1\u001b[38;5;241m.\u001b[39mcolumns\n",
      "\u001b[1;31mNameError\u001b[0m: name 'df1' is not defined"
     ]
    }
   ],
   "source": [
    "\n",
    "df1.shape\n",
    "df1.index\n",
    "df1.columns\n",
    "df1.head()\n",
    "df1.describe(include=\"all\").T"
   ]
  },
  {
   "cell_type": "markdown",
   "metadata": {},
   "source": [
    "Accessing data"
   ]
  },
  {
   "cell_type": "code",
   "execution_count": null,
   "metadata": {},
   "outputs": [],
   "source": [
    "df1[['Vol','HQ','MNC']]"
   ]
  },
  {
   "cell_type": "code",
   "execution_count": null,
   "metadata": {},
   "outputs": [],
   "source": [
    "#df1['Kolkata_FMCG']\n",
    "df1['Kolkata_FMCG':'Eastern_Estates']\n",
    "df1['Kolkata_FMCG':'Eastern_Estates':2]"
   ]
  },
  {
   "cell_type": "code",
   "execution_count": null,
   "metadata": {},
   "outputs": [],
   "source": [
    "df1.iloc[0]"
   ]
  },
  {
   "cell_type": "code",
   "execution_count": null,
   "metadata": {},
   "outputs": [],
   "source": [
    "# Conditional access\n",
    "mask1 = df1.Sector == 'Pub'\n",
    "mask1\n",
    "\n",
    "df1[mask1]"
   ]
  },
  {
   "cell_type": "code",
   "execution_count": null,
   "metadata": {},
   "outputs": [],
   "source": [
    "df1[(df1.Sector == 'Pub') & (df1.GST == 'Goods')]"
   ]
  },
  {
   "cell_type": "code",
   "execution_count": null,
   "metadata": {},
   "outputs": [],
   "source": [
    "df1.Rev.mean()\n",
    "df1[df1.Rev > df1.Rev.mean()]\n",
    "df1.Sector.value_counts()\n",
    "dfg = df1.groupby(by='Sector')\n",
    "dfg"
   ]
  },
  {
   "cell_type": "code",
   "execution_count": null,
   "metadata": {},
   "outputs": [],
   "source": [
    "#Sorting\n",
    "\n",
    "df2 = df1.sort_index(axis=0, ascending=True, inplace=False)\n",
    "#print(df2)\n",
    "\n",
    "df3=df1.sort_values(by='Vol',axis=0, ascending=True, inplace=False)\n",
    "print(df3)\n"
   ]
  },
  {
   "cell_type": "code",
   "execution_count": null,
   "metadata": {},
   "outputs": [],
   "source": [
    "# Drop\n",
    "df1.drop(index=['NCR_Leagles','Bangalore_Breweries'], columns=['Vol','GST','MNC'], inplace=False)\n",
    "df1   # does it reflect?\n",
    "\n"
   ]
  },
  {
   "cell_type": "code",
   "execution_count": null,
   "metadata": {},
   "outputs": [],
   "source": [
    "#Rename a column\n",
    "df1.rename(index={'Bangalore_Breweries':'UB', 'Central_Services':'IR'},\n",
    "          columns={'Vol':'Sales', 'Exp':'Expenditure', 'Rev':'Revenue'})\n",
    "\n",
    "df1 ## Does it reflect?\n",
    "\n"
   ]
  },
  {
   "cell_type": "code",
   "execution_count": 63,
   "metadata": {},
   "outputs": [
    {
     "data": {
      "text/html": [
       "<div>\n",
       "<style scoped>\n",
       "    .dataframe tbody tr th:only-of-type {\n",
       "        vertical-align: middle;\n",
       "    }\n",
       "\n",
       "    .dataframe tbody tr th {\n",
       "        vertical-align: top;\n",
       "    }\n",
       "\n",
       "    .dataframe thead th {\n",
       "        text-align: right;\n",
       "    }\n",
       "</style>\n",
       "<table border=\"1\" class=\"dataframe\">\n",
       "  <thead>\n",
       "    <tr style=\"text-align: right;\">\n",
       "      <th></th>\n",
       "      <th>Vol</th>\n",
       "      <th>Rev</th>\n",
       "      <th>Exp</th>\n",
       "      <th>Sector</th>\n",
       "      <th>EmpCnt</th>\n",
       "      <th>HQ</th>\n",
       "      <th>MNC</th>\n",
       "      <th>StockID</th>\n",
       "      <th>GST</th>\n",
       "      <th>Start Date</th>\n",
       "      <th>Scale</th>\n",
       "    </tr>\n",
       "  </thead>\n",
       "  <tbody>\n",
       "    <tr>\n",
       "      <th>Deccan_Sporting</th>\n",
       "      <td>931</td>\n",
       "      <td>839.80</td>\n",
       "      <td>615</td>\n",
       "      <td>Pvt</td>\n",
       "      <td>154</td>\n",
       "      <td>Hyd</td>\n",
       "      <td>1</td>\n",
       "      <td>SPRT</td>\n",
       "      <td>Services</td>\n",
       "      <td>Mar 1943</td>\n",
       "      <td>Mid</td>\n",
       "    </tr>\n",
       "    <tr>\n",
       "      <th>Kolkata_FMCG</th>\n",
       "      <td>925</td>\n",
       "      <td>874.40</td>\n",
       "      <td>676</td>\n",
       "      <td>Pub</td>\n",
       "      <td>1379</td>\n",
       "      <td>Kol</td>\n",
       "      <td>0</td>\n",
       "      <td>KFMC</td>\n",
       "      <td>Goods</td>\n",
       "      <td>Jan 1920</td>\n",
       "      <td>Mid</td>\n",
       "    </tr>\n",
       "    <tr>\n",
       "      <th>NCR_Leagles</th>\n",
       "      <td>931</td>\n",
       "      <td>863.50</td>\n",
       "      <td>605</td>\n",
       "      <td>Pub</td>\n",
       "      <td>1935</td>\n",
       "      <td>NCR</td>\n",
       "      <td>0</td>\n",
       "      <td>NCRL</td>\n",
       "      <td>Services</td>\n",
       "      <td>Feb 1960</td>\n",
       "      <td>Mid</td>\n",
       "    </tr>\n",
       "    <tr>\n",
       "      <th>Bangalore_Systems</th>\n",
       "      <td>900</td>\n",
       "      <td>881.60</td>\n",
       "      <td>650</td>\n",
       "      <td>Gov</td>\n",
       "      <td>1361</td>\n",
       "      <td>Blr</td>\n",
       "      <td>0</td>\n",
       "      <td>BSYS</td>\n",
       "      <td>Services</td>\n",
       "      <td>Apr 1950</td>\n",
       "      <td>Mid</td>\n",
       "    </tr>\n",
       "    <tr>\n",
       "      <th>Chennai_Chemicals</th>\n",
       "      <td>966</td>\n",
       "      <td>863.20</td>\n",
       "      <td>608</td>\n",
       "      <td>Pub</td>\n",
       "      <td>1656</td>\n",
       "      <td>Che</td>\n",
       "      <td>1</td>\n",
       "      <td>CHEM</td>\n",
       "      <td>Goods</td>\n",
       "      <td>Aug 1928</td>\n",
       "      <td>Mid</td>\n",
       "    </tr>\n",
       "    <tr>\n",
       "      <th>Indi_Services</th>\n",
       "      <td>954</td>\n",
       "      <td>733.00</td>\n",
       "      <td>609</td>\n",
       "      <td>Gov</td>\n",
       "      <td>13023</td>\n",
       "      <td>NCR</td>\n",
       "      <td>0</td>\n",
       "      <td>INDI</td>\n",
       "      <td>Services</td>\n",
       "      <td>Mar 1920</td>\n",
       "      <td>large</td>\n",
       "    </tr>\n",
       "    <tr>\n",
       "      <th>Bangalore_Breweries</th>\n",
       "      <td>966</td>\n",
       "      <td>805.00</td>\n",
       "      <td>899</td>\n",
       "      <td>Pvt</td>\n",
       "      <td>119</td>\n",
       "      <td>Blr</td>\n",
       "      <td>1</td>\n",
       "      <td>BREW</td>\n",
       "      <td>Goods</td>\n",
       "      <td>Oct 1971</td>\n",
       "      <td>Mid</td>\n",
       "    </tr>\n",
       "    <tr>\n",
       "      <th>Bombay_Finance</th>\n",
       "      <td>899</td>\n",
       "      <td>917.00</td>\n",
       "      <td>674</td>\n",
       "      <td>Pub</td>\n",
       "      <td>1443</td>\n",
       "      <td>Mum</td>\n",
       "      <td>0</td>\n",
       "      <td>BFIN</td>\n",
       "      <td>Services</td>\n",
       "      <td>Apr 1925</td>\n",
       "      <td>Mid</td>\n",
       "    </tr>\n",
       "    <tr>\n",
       "      <th>Chennai_Shipping</th>\n",
       "      <td>992</td>\n",
       "      <td>821.00</td>\n",
       "      <td>665</td>\n",
       "      <td>Pub</td>\n",
       "      <td>899</td>\n",
       "      <td>Che</td>\n",
       "      <td>1</td>\n",
       "      <td>SHIP</td>\n",
       "      <td>Goods</td>\n",
       "      <td>Nov 1930</td>\n",
       "      <td>Mid</td>\n",
       "    </tr>\n",
       "    <tr>\n",
       "      <th>Eastern_Estates</th>\n",
       "      <td>945</td>\n",
       "      <td>834.23</td>\n",
       "      <td>789</td>\n",
       "      <td>Pvt</td>\n",
       "      <td>1873</td>\n",
       "      <td>Kol</td>\n",
       "      <td>1</td>\n",
       "      <td>EEST</td>\n",
       "      <td>Goods</td>\n",
       "      <td>Jan 1994</td>\n",
       "      <td>Mid</td>\n",
       "    </tr>\n",
       "    <tr>\n",
       "      <th>Central_Services</th>\n",
       "      <td>934</td>\n",
       "      <td>824.00</td>\n",
       "      <td>689</td>\n",
       "      <td>Gov</td>\n",
       "      <td>1573</td>\n",
       "      <td>NCR</td>\n",
       "      <td>1</td>\n",
       "      <td>CSRV</td>\n",
       "      <td>Services</td>\n",
       "      <td>Jun 1974</td>\n",
       "      <td>Mid</td>\n",
       "    </tr>\n",
       "  </tbody>\n",
       "</table>\n",
       "</div>"
      ],
      "text/plain": [
       "                     Vol     Rev  Exp Sector  EmpCnt   HQ  MNC StockID  \\\n",
       "Deccan_Sporting      931  839.80  615    Pvt     154  Hyd    1    SPRT   \n",
       "Kolkata_FMCG         925  874.40  676    Pub    1379  Kol    0    KFMC   \n",
       "NCR_Leagles          931  863.50  605    Pub    1935  NCR    0    NCRL   \n",
       "Bangalore_Systems    900  881.60  650    Gov    1361  Blr    0    BSYS   \n",
       "Chennai_Chemicals    966  863.20  608    Pub    1656  Che    1    CHEM   \n",
       "Indi_Services        954  733.00  609    Gov   13023  NCR    0    INDI   \n",
       "Bangalore_Breweries  966  805.00  899    Pvt     119  Blr    1    BREW   \n",
       "Bombay_Finance       899  917.00  674    Pub    1443  Mum    0    BFIN   \n",
       "Chennai_Shipping     992  821.00  665    Pub     899  Che    1    SHIP   \n",
       "Eastern_Estates      945  834.23  789    Pvt    1873  Kol    1    EEST   \n",
       "Central_Services     934  824.00  689    Gov    1573  NCR    1    CSRV   \n",
       "\n",
       "                          GST Start Date  Scale  \n",
       "Deccan_Sporting      Services   Mar 1943    Mid  \n",
       "Kolkata_FMCG            Goods   Jan 1920    Mid  \n",
       "NCR_Leagles          Services   Feb 1960    Mid  \n",
       "Bangalore_Systems    Services   Apr 1950    Mid  \n",
       "Chennai_Chemicals       Goods   Aug 1928    Mid  \n",
       "Indi_Services        Services   Mar 1920  large  \n",
       "Bangalore_Breweries     Goods   Oct 1971    Mid  \n",
       "Bombay_Finance       Services   Apr 1925    Mid  \n",
       "Chennai_Shipping        Goods   Nov 1930    Mid  \n",
       "Eastern_Estates         Goods   Jan 1994    Mid  \n",
       "Central_Services     Services   Jun 1974    Mid  "
      ]
     },
     "execution_count": 63,
     "metadata": {},
     "output_type": "execute_result"
    }
   ],
   "source": [
    "\n",
    "def Emp_count_analysis(empcount):\n",
    "    if empcount > 2000:\n",
    "        return 'large'\n",
    "    elif empcount < 2000:\n",
    "        return 'Mid'\n",
    "    else:\n",
    "        return 'Small'\n",
    "    \n",
    "\n",
    "df1['Scale'] = df1.EmpCnt.map(Emp_count_analysis)\n",
    "\n",
    "df1"
   ]
  }
 ],
 "metadata": {
  "kernelspec": {
   "display_name": "base",
   "language": "python",
   "name": "python3"
  },
  "language_info": {
   "codemirror_mode": {
    "name": "ipython",
    "version": 3
   },
   "file_extension": ".py",
   "mimetype": "text/x-python",
   "name": "python",
   "nbconvert_exporter": "python",
   "pygments_lexer": "ipython3",
   "version": "3.12.4"
  }
 },
 "nbformat": 4,
 "nbformat_minor": 2
}
